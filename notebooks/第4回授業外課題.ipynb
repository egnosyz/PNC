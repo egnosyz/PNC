{
  "cells": [
    {
      "cell_type": "markdown",
      "metadata": {
        "id": "KdZgsJpa5C19"
      },
      "source": [
        "## この課題は成績の評価対象です\n",
        "\n",
        "**課題提出注意事項：以下の点が守られていない場合は0点**<br>\n",
        "※moodleからダウンロードした「第4回授業外課題.ipynb」を使用すること<br>\n",
        "※ファイルは必ずpdfファイルで提出すること<br>\n",
        "※プログラムは動かした上で、結果も出力されていること<br>\n",
        "※ファイル名は「学籍番号＋第4回授業外課題」とすること<br>\n",
        "　例)「23A9999_第4回授業外課題.pdf」\n"
      ]
    },
    {
      "cell_type": "markdown",
      "metadata": {
        "id": "lVBRprTQ41Bz"
      },
      "source": [
        "# 授業外課題：締め切り5月12日　23：59\n"
      ]
    },
    {
      "cell_type": "markdown",
      "metadata": {
        "id": "MdrSrGku8kLI"
      },
      "source": [
        "## 問題1\n",
        "p = [90,21,30,11,23]<br>\n",
        "q = [10,20,29,19,33]\n",
        "\n",
        "についてmax関数を用いずにL∞(チェビシェフ距離)を求めるプログラムを作成しなさい\n"
      ]
    },
    {
      "cell_type": "code",
      "execution_count": 1,
      "metadata": {
        "id": "GozzCPuDyz7X"
      },
      "outputs": [],
      "source": [
        "import numpy as np"
      ]
    },
    {
      "cell_type": "code",
      "execution_count": null,
      "metadata": {
        "colab": {
          "base_uri": "https://localhost:8080/"
        },
        "id": "_SqYy8Ro44dj",
        "outputId": "18bfb806-2bac-4953-83d4-7707cdce1749"
      },
      "outputs": [
        {
          "data": {
            "text/plain": [
              "80.0"
            ]
          },
          "execution_count": 3,
          "metadata": {},
          "output_type": "execute_result"
        }
      ],
      "source": [
        "p = [90,21,30,11,23]\n",
        "q = [10,20,29,19,33]\n",
        "\n",
        "result = 0\n",
        "for m, n in zip(p, q):\n",
        "    if ((s:=np.fabs(m - n)) > result):\n",
        "        result = s\n",
        "result\n",
        "\n"
      ]
    },
    {
      "cell_type": "markdown",
      "metadata": {
        "id": "zQqadt7j8XwB"
      },
      "source": [
        "## 問題2 \n",
        "※numpy、sypi、sympy等のライブラリは使用不可<br>\n",
        "ベクトル(配列)　V = [14,25,20,4,24]について不偏分散を求めるプログラムを作成しなさい<br>\n",
        "$$\n",
        "\\frac{1}{n-1} \\sum^{n}_{i=1}(x_i-\\bar{x})^2\n",
        "$$\n",
        "\n",
        "$\\bar{x}$:平均<br>\n",
        "$n$:データ数"
      ]
    },
    {
      "cell_type": "code",
      "execution_count": null,
      "metadata": {
        "colab": {
          "base_uri": "https://localhost:8080/"
        },
        "id": "SP-BWX5P8W6N",
        "outputId": "9c3c2011-32fa-4517-a0f6-907002cec7ce"
      },
      "outputs": [
        {
          "data": {
            "text/plain": [
              "1196.8"
            ]
          },
          "execution_count": 4,
          "metadata": {},
          "output_type": "execute_result"
        }
      ],
      "source": [
        "V = [14,25,20,4,24]\n",
        "avg = sum(V) / len(V)\n",
        "s = sum(map(lambda i: (i - avg) ** 2, V))\n",
        "result = s * (len(V) - 1)\n",
        "result"
      ]
    }
  ],
  "metadata": {
    "colab": {
      "provenance": []
    },
    "kernelspec": {
      "display_name": "Python 3",
      "name": "python3"
    },
    "language_info": {
      "codemirror_mode": {
        "name": "ipython",
        "version": 3
      },
      "file_extension": ".py",
      "mimetype": "text/x-python",
      "name": "python",
      "nbconvert_exporter": "python",
      "pygments_lexer": "ipython3",
      "version": "3.10.4"
    }
  },
  "nbformat": 4,
  "nbformat_minor": 0
}
